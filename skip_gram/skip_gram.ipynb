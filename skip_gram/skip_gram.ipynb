{
 "cells": [
  {
   "cell_type": "code",
   "execution_count": 3,
   "metadata": {},
   "outputs": [],
   "source": [
    "#!/usr/bin/env python3\n",
    "# -*- coding: utf-8 -*-\n",
    "\"\"\"\n",
    "Created on Wed Feb 5 2025\n",
    "\n",
    "@author: Yaning\n",
    "\"\"\"\n",
    "\n",
    "\n",
    "import torch.optim as optim\n",
    "import random\n",
    "import torch\n",
    "import torch.nn as nn\n",
    "from collections import Counter\n",
    "from tqdm import tqdm\n",
    "import matplotlib.pyplot as plt\n",
    "import re\n",
    "import nltk\n",
    "from nltk.tokenize import word_tokenize\n",
    "from sklearn.decomposition import PCA\n",
    "import numpy as np"
   ]
  },
  {
   "cell_type": "code",
   "execution_count": 36,
   "metadata": {},
   "outputs": [],
   "source": [
    "# Set the device (\"mps\" if you're using an M series mac):\n",
    "if torch.backends.mps.is_available():\n",
    "    device = torch.device('mps')\n",
    "elif torch.cuda.is_available():\n",
    "    device = torch.device('cuda')\n",
    "else:\n",
    "    device = torch.device('cpu')"
   ]
  },
  {
   "cell_type": "code",
   "execution_count": 2,
   "metadata": {},
   "outputs": [
    {
     "name": "stderr",
     "output_type": "stream",
     "text": [
      "/home/yaning/Documents/python_env/llm/lib/python3.13/site-packages/tqdm/auto.py:21: TqdmWarning: IProgress not found. Please update jupyter and ipywidgets. See https://ipywidgets.readthedocs.io/en/stable/user_install.html\n",
      "  from .autonotebook import tqdm as notebook_tqdm\n"
     ]
    }
   ],
   "source": [
    "from transformers import AutoTokenizer, AutoModelForCausalLM"
   ]
  },
  {
   "cell_type": "code",
   "execution_count": null,
   "metadata": {},
   "outputs": [],
   "source": [
    "model_name = \"meta-llama/Meta-Llama-3.1-8B\"\n",
    "tokenizer = AutoTokenizer.from_pretrained(model_name)\n",
    "# model = AutoModelForCausalLM.from_pretrained(model_name)"
   ]
  },
  {
   "cell_type": "code",
   "execution_count": 4,
   "metadata": {},
   "outputs": [],
   "source": [
    "with open('/home/yaning/Documents/LLM/skip_gram/winnetou_h.txt', 'r') as file:\n",
    "    h_text = file.read()\n",
    "\n",
    "with open('/home/yaning/Documents/LLM/skip_gram/winnetou_s.txt', 'r') as file:\n",
    "    s_text = file.read()"
   ]
  },
  {
   "cell_type": "code",
   "execution_count": 5,
   "metadata": {},
   "outputs": [],
   "source": [
    "h_text = h_text.lower()\n",
    "s_text = s_text.lower()"
   ]
  },
  {
   "cell_type": "code",
   "execution_count": 404,
   "metadata": {},
   "outputs": [],
   "source": [
    "s_text = \"Haid geh ich in die Schdadt, um paar Eingaufn zu machn. Dann treffsch mich mit Feiern im Café un genießn e heeßn Gaffee. Es is'n schieener Tach, un ich freu mich offn Oobnd.\"\n",
    "h_text = \"Heute gehe ich in die Stadt, um ein paar Einkäufe zu machen. Danach treffe ich mich mit Freunden im Café und genieße einen heißen Kaffee. Es ist ein schöner Tag, und ich freue mich auf den Abend.\""
   ]
  },
  {
   "cell_type": "markdown",
   "metadata": {},
   "source": [
    "Generate Voaculary"
   ]
  },
  {
   "cell_type": "code",
   "execution_count": null,
   "metadata": {},
   "outputs": [],
   "source": [
    "# generate vocabulary dictionary\n",
    "vocab_text = (s_text+h_text).lower()\n",
    "vocab_text = re.findall(r'\\b[\\wäöüßéèàôûç]+\\b', vocab_text)\n",
    "\n",
    "vocab = set(vocab_text)"
   ]
  },
  {
   "cell_type": "code",
   "execution_count": 15,
   "metadata": {},
   "outputs": [],
   "source": [
    "word_to_index = {word: idx for idx, word in enumerate(vocab)}\n",
    "index_to_word = {idx: word for word, idx in word_to_index.items()}"
   ]
  },
  {
   "cell_type": "markdown",
   "metadata": {},
   "source": [
    "Generate Training data"
   ]
  },
  {
   "cell_type": "code",
   "execution_count": 16,
   "metadata": {},
   "outputs": [],
   "source": [
    "train_h = re.sub(r'[.,\\n]', \" \", h_text)\n",
    "train_s = re.sub(r'[.,\\n]', \" \", s_text)"
   ]
  },
  {
   "cell_type": "code",
   "execution_count": 17,
   "metadata": {},
   "outputs": [],
   "source": [
    "train_h = re.findall(r'\\b[\\wäöüßéèàôûç]+\\b', train_h)\n",
    "train_s = re.findall(r'\\b[\\wäöüßéèàôûç]+\\b', train_s)"
   ]
  },
  {
   "cell_type": "code",
   "execution_count": 18,
   "metadata": {},
   "outputs": [],
   "source": [
    "window_size = 10"
   ]
  },
  {
   "cell_type": "markdown",
   "metadata": {},
   "source": [
    "The pairs generating is important, which ones do you want to put in the same context"
   ]
  },
  {
   "cell_type": "code",
   "execution_count": 20,
   "metadata": {},
   "outputs": [],
   "source": [
    "# transform them to indx\n",
    "train_h_indx = []\n",
    "for i in train_h:\n",
    "    train_h_indx.append(word_to_index[i])\n",
    "\n",
    "train_s_indx = []\n",
    "for i in train_s:\n",
    "    train_s_indx.append(word_to_index[i])"
   ]
  },
  {
   "cell_type": "code",
   "execution_count": 21,
   "metadata": {},
   "outputs": [],
   "source": [
    "pad_index = len(vocab)"
   ]
  },
  {
   "cell_type": "code",
   "execution_count": 22,
   "metadata": {},
   "outputs": [],
   "source": [
    "index_to_word[pad_index] = '[PAD]'\n",
    "word_to_index['[PAD]'] = pad_index"
   ]
  },
  {
   "cell_type": "code",
   "execution_count": 27,
   "metadata": {},
   "outputs": [],
   "source": [
    "acc_h = train_h_indx.copy()"
   ]
  },
  {
   "cell_type": "code",
   "execution_count": null,
   "metadata": {},
   "outputs": [],
   "source": [
    "acc_s = []\n",
    "ratio = len(train_s_indx)/len(train_h_indx)\n",
    "for i in range(len(acc_h)):\n",
    "\n",
    "    center = i*ratio\n",
    "    chunk_begin = round(center - window_size/2)\n",
    "    chunk_end = round(center + window_size/2)\n",
    "    if chunk_end - chunk_begin != window_size:\n",
    "        random_number = random.randint(0, 1)\n",
    "        if random_number == 0:\n",
    "            chunk_begin = chunk_begin+1\n",
    "        else:\n",
    "            chunk_end = chunk_end-1\n",
    "    \n",
    "    if chunk_begin < 0:\n",
    "        chunk_begin = 0\n",
    "    if chunk_end > len(train_s_indx)-1:\n",
    "        chunk_end = len(train_s_indx)-1\n",
    "    \n",
    "    temp = train_s_indx[chunk_begin:chunk_end]\n",
    "    while len(temp) != window_size:\n",
    "        temp.append(pad_index)\n",
    "    acc_s.append(temp)"
   ]
  },
  {
   "cell_type": "code",
   "execution_count": 51,
   "metadata": {},
   "outputs": [],
   "source": [
    "combined = []\n",
    "for i in range(len(acc_h)):\n",
    "    combined.append([acc_h[i]] + acc_s[i])"
   ]
  },
  {
   "cell_type": "code",
   "execution_count": 30,
   "metadata": {},
   "outputs": [],
   "source": [
    "train_data = list(zip(acc_h, acc_s))"
   ]
  },
  {
   "cell_type": "code",
   "execution_count": 70,
   "metadata": {},
   "outputs": [
    {
     "name": "stdout",
     "output_type": "stream",
     "text": [
      "Word2VecSkipGram(\n",
      "  (input_embedding): Embedding(10837, 50)\n",
      "  (output_embedding): Embedding(10837, 50)\n",
      ")\n"
     ]
    }
   ],
   "source": [
    "class Word2VecSkipGram(nn.Module):\n",
    "    def __init__(self, vocab_size, embedding_dim):\n",
    "        super(Word2VecSkipGram, self).__init__()\n",
    "        self.input_embedding = nn.Embedding(vocab_size, embedding_dim)\n",
    "        self.output_embedding = nn.Embedding(vocab_size, embedding_dim)\n",
    "    \n",
    "    def forward(self, center_word, context_word):\n",
    "        # Get embeddings for center and context words\n",
    "        center_embedding = self.input_embedding(center_word)  # Shape: (batch_size, embedding_dim)\n",
    "        context_embedding = self.output_embedding(context_word)  # Shape: (batch_size, embedding_dim)\n",
    "        \n",
    "        # Compute dot product (similarity score)\n",
    "        similarity = torch.mul(center_embedding, context_embedding).sum(dim=1)\n",
    "        # similarity = torch.mul(center_embedding, context_embedding)\n",
    "        # sum_similarity = torch.sum(similarity)\n",
    "        return similarity\n",
    "\n",
    "embedding_dim = 50\n",
    "vocab_size = len(word_to_index)\n",
    "\n",
    "model = Word2VecSkipGram(vocab_size=vocab_size, embedding_dim=embedding_dim).to(device)\n",
    "print(model)\n"
   ]
  },
  {
   "cell_type": "code",
   "execution_count": 76,
   "metadata": {},
   "outputs": [],
   "source": [
    "# Define the loss function\n",
    "class NegativeSamplingLoss(nn.Module):\n",
    "    def __init__(self):\n",
    "        super(NegativeSamplingLoss, self).__init__()\n",
    "        self.log_sigmoid = nn.LogSigmoid()\n",
    "\n",
    "    def forward(self, positive_similarity, negative_similarity):\n",
    "        pos_loss = self.log_sigmoid(positive_similarity).mean()\n",
    "        neg_loss = self.log_sigmoid(-negative_similarity).mean()\n",
    "        return - (pos_loss + neg_loss)\n",
    "\n",
    "learning_rate = 0.001\n",
    "num_epochs = 10\n",
    "\n",
    "optimizer = optim.Adam(model.parameters(), lr=learning_rate)\n",
    "criterion = NegativeSamplingLoss()\n",
    "\n",
    "def get_negative_samples(vocab_size, batch_size, num_samples):\n",
    "    return torch.randint(0, vocab_size, (batch_size, num_samples))\n",
    "    "
   ]
  },
  {
   "cell_type": "code",
   "execution_count": 80,
   "metadata": {},
   "outputs": [
    {
     "name": "stderr",
     "output_type": "stream",
     "text": [
      "  0%|                                                                                                                      | 0/10 [00:00<?, ?it/s]/tmp/ipykernel_271924/504858458.py:12: UserWarning: To copy construct from a tensor, it is recommended to use sourceTensor.clone().detach() or sourceTensor.clone().detach().requires_grad_(True), rather than torch.tensor(sourceTensor).\n",
      "  center_idx = torch.tensor(center_idx)\n",
      "/tmp/ipykernel_271924/504858458.py:13: UserWarning: To copy construct from a tensor, it is recommended to use sourceTensor.clone().detach() or sourceTensor.clone().detach().requires_grad_(True), rather than torch.tensor(sourceTensor).\n",
      "  context_idx = torch.tensor(context_idx)\n",
      "100%|█████████████████████████████████████████████████████████████████████████████████████████████████████████████| 10/10 [05:17<00:00, 31.73s/it]\n"
     ]
    }
   ],
   "source": [
    "losses = []\n",
    "for epoch in tqdm(range(num_epochs)):\n",
    "    total_loss = 0\n",
    "    random.shuffle(train_data)  # Shuffle pairs each epoch\n",
    "\n",
    "    for i in range(len(train_data)):\n",
    "        # center_idx = torch.tensor([word_to_index[center_word]], dtype=torch.long)\n",
    "        # context_idx = torch.tensor([word_to_index[context_word]], dtype=torch.long)\n",
    "        # print(context_idx[1])\n",
    "        center_idx = train_data[i,0]\n",
    "        context_idx = train_data[i, 1:]\n",
    "        center_idx = torch.tensor(center_idx)\n",
    "        context_idx = torch.tensor(context_idx)\n",
    "        # print(center_idx)\n",
    "        # print(context_idx)\n",
    "        positive_similarity = model(center_idx, context_idx)\n",
    "        \n",
    "        # Negative sampling\n",
    "        negative_samples = get_negative_samples(vocab_size, 1, window_size).to(device)\n",
    "        negative_similarity = model(center_idx, negative_samples.view(-1))\n",
    "        \n",
    "        # Calculate loss and update model\n",
    "        loss = criterion(positive_similarity, negative_similarity)\n",
    "        optimizer.zero_grad()\n",
    "        loss.backward()\n",
    "        optimizer.step()\n",
    "        \n",
    "        total_loss += loss.item()\n",
    "    losses.append(total_loss)\n",
    "    \n",
    "    # print(f\"Epoch {epoch+1}/{num_epochs}, Loss: {total_loss/len(pairs):.4f}\")"
   ]
  },
  {
   "cell_type": "code",
   "execution_count": 81,
   "metadata": {},
   "outputs": [
    {
     "data": {
      "text/plain": [
       "[<matplotlib.lines.Line2D at 0x7f0f6c749590>]"
      ]
     },
     "execution_count": 81,
     "metadata": {},
     "output_type": "execute_result"
    },
    {
     "data": {
      "image/png": "[encoded data removed]",
      "text/plain": [
       "<Figure size 640x480 with 1 Axes>"
      ]
     },
     "metadata": {},
     "output_type": "display_data"
    }
   ],
   "source": [
    "plt.plot(losses)"
   ]
  },
  {
   "cell_type": "code",
   "execution_count": null,
   "metadata": {},
   "outputs": [],
   "source": [
    "words_to_visualize = ['ich', 'schöne', 'nestern', 'abzuzäumen']\n",
    "words_to_visualize = ['schdadt', 'stadt', 'heute', 'haid', 'ich']\n",
    "word_indices = torch.tensor([word_to_index[word] for word in words_to_visualize], dtype=torch.long).cpu().tolist()\n",
    "word_vectors = [model.input_embedding(torch.tensor(word_idx).to(device)).cpu().detach().numpy()  for word_idx in word_indices]\n",
    "\n",
    "# Reduce dimensionality\n",
    "pca = PCA(n_components=2)\n",
    "reduced_vectors = pca.fit_transform(word_vectors)"
   ]
  },
  {
   "cell_type": "code",
   "execution_count": 102,
   "metadata": {},
   "outputs": [
    {
     "data": {
      "image/png": "[encoded data removed]",
      "text/plain": [
       "<Figure size 800x600 with 1 Axes>"
      ]
     },
     "metadata": {},
     "output_type": "display_data"
    }
   ],
   "source": [
    "# Plot the word vectors\n",
    "plt.figure(figsize=(8, 6))\n",
    "for i, word in enumerate(words_to_visualize):\n",
    "    plt.scatter(reduced_vectors[i][0], reduced_vectors[i][1])\n",
    "    plt.annotate(word, xy=(reduced_vectors[i][0], reduced_vectors[i][1]), fontsize=12)\n",
    "plt.title(\"2D Visualization of Word Embeddings\")\n",
    "plt.xlabel(\"Principal Component 1\")\n",
    "plt.ylabel(\"Principal Component 2\")\n",
    "plt.savefig(\"embedding.png\", dpi=300)\n",
    "plt.show()\n"
   ]
  },
  {
   "cell_type": "code",
   "execution_count": 103,
   "metadata": {},
   "outputs": [],
   "source": [
    "def cosine_similarity(vec1, vec2):\n",
    "    return np.dot(vec1, vec2) / (np.linalg.norm(vec1) * np.linalg.norm(vec2))"
   ]
  },
  {
   "cell_type": "code",
   "execution_count": 128,
   "metadata": {},
   "outputs": [],
   "source": [
    "word_idx = word_to_index[\"fraßen\"]"
   ]
  },
  {
   "cell_type": "code",
   "execution_count": 129,
   "metadata": {},
   "outputs": [],
   "source": [
    "target_embedding = model.input_embedding(torch.tensor(word_idx).to(device)).cpu().detach().numpy()"
   ]
  },
  {
   "cell_type": "code",
   "execution_count": 130,
   "metadata": {},
   "outputs": [],
   "source": [
    "all_embeddings = model.input_embedding.weight.data.cpu().detach().numpy()"
   ]
  },
  {
   "cell_type": "code",
   "execution_count": 131,
   "metadata": {},
   "outputs": [],
   "source": [
    "max_similarity = -1\n",
    "for idx, embedding in enumerate(all_embeddings):\n",
    "    if idx == word_idx:  # Skip the target embedding\n",
    "        continue\n",
    "    similarity = cosine_similarity(target_embedding, embedding)\n",
    "    if similarity > max_similarity:\n",
    "        max_similarity = similarity\n",
    "        closest_word_idx = idx"
   ]
  },
  {
   "cell_type": "code",
   "execution_count": 132,
   "metadata": {},
   "outputs": [
    {
     "data": {
      "text/plain": [
       "'lache'"
      ]
     },
     "execution_count": 132,
     "metadata": {},
     "output_type": "execute_result"
    }
   ],
   "source": [
    "index_to_word[closest_word_idx]"
   ]
  }
 ],
 "metadata": {
  "kernelspec": {
   "display_name": "Python 3 (ipykernel)",
   "language": "python",
   "name": "python3"
  },
  "language_info": {
   "codemirror_mode": {
    "name": "ipython",
    "version": 3
   },
   "file_extension": ".py",
   "mimetype": "text/x-python",
   "name": "python",
   "nbconvert_exporter": "python",
   "pygments_lexer": "ipython3",
   "version": "3.13.1"
  }
 },
 "nbformat": 4,
 "nbformat_minor": 2
}
