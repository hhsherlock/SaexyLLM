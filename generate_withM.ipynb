{
 "cells": [
  {
   "cell_type": "code",
   "execution_count": 1,
   "metadata": {},
   "outputs": [],
   "source": [
    "#!/usr/bin/env python3\n",
    "# -*- coding: utf-8 -*-\n",
    "\"\"\"\n",
    "Created on Sun Feb 9 2025\n",
    "\n",
    "@author: Yaning\n",
    "\"\"\"\n",
    "\n",
    "# Import necessary libraries\n",
    "import torch\n",
    "import torch.nn as nn\n",
    "import torch.optim as optim\n",
    "# import torch.nn.functional as F # mainly for ReLU\n",
    "import numpy as np\n",
    "import copy\n",
    "import re\n",
    "import torch.nn.functional as F\n"
   ]
  },
  {
   "cell_type": "code",
   "execution_count": 2,
   "metadata": {},
   "outputs": [
    {
     "name": "stderr",
     "output_type": "stream",
     "text": [
      "/home/yaning/Documents/python_env/llm/lib/python3.13/site-packages/tqdm/auto.py:21: TqdmWarning: IProgress not found. Please update jupyter and ipywidgets. See https://ipywidgets.readthedocs.io/en/stable/user_install.html\n",
      "  from .autonotebook import tqdm as notebook_tqdm\n"
     ]
    },
    {
     "data": {
      "text/plain": [
       "GPT2LMHeadModel(\n",
       "  (transformer): GPT2Model(\n",
       "    (wte): Embedding(50265, 768)\n",
       "    (wpe): Embedding(1024, 768)\n",
       "    (drop): Dropout(p=0.0, inplace=False)\n",
       "    (h): ModuleList(\n",
       "      (0-11): 12 x GPT2Block(\n",
       "        (ln_1): LayerNorm((768,), eps=1e-05, elementwise_affine=True)\n",
       "        (attn): GPT2Attention(\n",
       "          (c_attn): Conv1D(nf=2304, nx=768)\n",
       "          (c_proj): Conv1D(nf=768, nx=768)\n",
       "          (attn_dropout): Dropout(p=0.0, inplace=False)\n",
       "          (resid_dropout): Dropout(p=0.0, inplace=False)\n",
       "        )\n",
       "        (ln_2): LayerNorm((768,), eps=1e-05, elementwise_affine=True)\n",
       "        (mlp): GPT2MLP(\n",
       "          (c_fc): Conv1D(nf=3072, nx=768)\n",
       "          (c_proj): Conv1D(nf=768, nx=3072)\n",
       "          (act): NewGELUActivation()\n",
       "          (dropout): Dropout(p=0.0, inplace=False)\n",
       "        )\n",
       "      )\n",
       "    )\n",
       "    (ln_f): LayerNorm((768,), eps=1e-05, elementwise_affine=True)\n",
       "  )\n",
       "  (lm_head): Linear(in_features=768, out_features=50265, bias=False)\n",
       ")"
      ]
     },
     "execution_count": 2,
     "metadata": {},
     "output_type": "execute_result"
    }
   ],
   "source": [
    "from transformers import AutoTokenizer, AutoModelForCausalLM, GPT2Model\n",
    "\n",
    "tokenizer = AutoTokenizer.from_pretrained(\"dbmdz/german-gpt2\")\n",
    "model = AutoModelForCausalLM.from_pretrained(\"dbmdz/german-gpt2\")\n",
    "model.eval()"
   ]
  },
  {
   "cell_type": "code",
   "execution_count": 3,
   "metadata": {},
   "outputs": [],
   "source": [
    "# Define the Transition Layer (T)\n",
    "class TransitionLayer(nn.Module):\n",
    "    def __init__(self, embedding_dim):\n",
    "        super(TransitionLayer, self).__init__()\n",
    "        # Trainable transition matrix to map standard to dialect\n",
    "        self.transition_matrix = nn.Parameter(torch.randn(embedding_dim, embedding_dim))\n",
    "    \n",
    "    def forward(self, standard_embeddings):\n",
    "        # Apply the transformation: H_dialect = T * H_standard\n",
    "        return torch.matmul(standard_embeddings, self.transition_matrix)"
   ]
  },
  {
   "cell_type": "code",
   "execution_count": 4,
   "metadata": {},
   "outputs": [
    {
     "name": "stderr",
     "output_type": "stream",
     "text": [
      "/tmp/ipykernel_156549/4049165342.py:6: FutureWarning: You are using `torch.load` with `weights_only=False` (the current default value), which uses the default pickle module implicitly. It is possible to construct malicious pickle data which will execute arbitrary code during unpickling (See https://github.com/pytorch/pytorch/blob/main/SECURITY.md#untrusted-models for more details). In a future release, the default value for `weights_only` will be flipped to `True`. This limits the functions that could be executed during unpickling. Arbitrary objects will no longer be allowed to be loaded via this mode unless they are explicitly allowlisted by the user via `torch.serialization.add_safe_globals`. We recommend you start setting `weights_only=True` for any use case where you don't have full control of the loaded file. Please open an issue on GitHub for any issues related to this experimental feature.\n",
      "  transition_layer.load_state_dict(torch.load('transition_matrix_new.pth'))\n"
     ]
    },
    {
     "data": {
      "text/plain": [
       "<All keys matched successfully>"
      ]
     },
     "execution_count": 4,
     "metadata": {},
     "output_type": "execute_result"
    }
   ],
   "source": [
    "embedding_dim = model.config.hidden_size\n",
    "# Initialize the Transition Layer with the same embedding dimension\n",
    "transition_layer = TransitionLayer(embedding_dim)\n",
    "\n",
    "# Load the saved transition matrix into the model\n",
    "transition_layer.load_state_dict(torch.load('transition_matrix_new.pth'))\n"
   ]
  },
  {
   "cell_type": "code",
   "execution_count": 5,
   "metadata": {},
   "outputs": [],
   "source": [
    "def ask(question, model, tokenizer, max_length=100, device=\"cpu\"):\n",
    "    # Tokenize the input question\n",
    "    inputs = tokenizer(question, return_tensors=\"pt\").to(device)\n",
    "    \n",
    "    # Generate the response\n",
    "    with torch.no_grad():\n",
    "        output = model.generate(\n",
    "            inputs.input_ids,\n",
    "            max_length=max_length,\n",
    "            temperature=0.7,  # Controls randomness (lower = more deterministic)\n",
    "            top_k=50,         # Top-k sampling for diversity\n",
    "            do_sample=True,    # Enable sampling for less repetitive responses\n",
    "            output_hidden_states=True,\n",
    "            return_dict_in_generate=True \n",
    "        )\n",
    "    \n",
    "    hidden_states = output.hidden_states  # List of hidden states from each layer\n",
    "    # last_layer_hidden_state = hidden_states[-1]\n",
    "    # Decode the response\n",
    "    response = tokenizer.decode(output.sequences[0], skip_special_tokens=True)\n",
    "    return response, hidden_states"
   ]
  },
  {
   "cell_type": "code",
   "execution_count": 5,
   "metadata": {},
   "outputs": [],
   "source": [
    "import torch.nn.functional as F\n",
    "\n",
    "def ask_with_transition(question, model, tokenizer, transition_layer, max_length=100, device=\"cpu\"):\n",
    "    # Tokenize the input question\n",
    "    inputs = tokenizer(question, return_tensors=\"pt\").to(device)\n",
    "    \n",
    "    # Initialize the input ids and attention mask\n",
    "    input_ids = inputs.input_ids\n",
    "    attention_mask = inputs.attention_mask\n",
    "    \n",
    "    # Use the model to generate responses while controlling the generation loop\n",
    "    model.eval()  # Set the model to evaluation mode\n",
    "    generated_ids = input_ids\n",
    "    for _ in range(max_length - input_ids.shape[1]):\n",
    "        # Generate the logits and hidden states for the current input\n",
    "        outputs = model(input_ids=generated_ids, attention_mask=attention_mask, output_hidden_states=True)\n",
    "        \n",
    "        # Get the last hidden state from the outputs\n",
    "        hidden_states = outputs.hidden_states\n",
    "        last_hidden_state = hidden_states[-1]  # [batch_size, seq_len, hidden_size]\n",
    "        \n",
    "        # Apply the transition matrix to the last hidden state\n",
    "        transformed_hidden_state = torch.matmul(last_hidden_state[:, -1, :], transition_layer.transition_matrix)\n",
    "        \n",
    "        # Transform the hidden state to logits\n",
    "        # logits = model.lm_head(transformed_hidden_state)  # Project the transformed hidden state to logits\n",
    "        logits = model.lm_head(transformed_hidden_state)\n",
    "        # Apply softmax to get probabilities for the next token\n",
    "        next_token_logits = logits[:,:]  # Get the logits for the next token\n",
    "        next_token_probs = F.softmax(next_token_logits, dim=-1)\n",
    "        \n",
    "        # Sample the next token from the probabilities\n",
    "        next_token_id = torch.multinomial(next_token_probs, 1)\n",
    "        \n",
    "        # Append the predicted token to the generated sequence\n",
    "        generated_ids = torch.cat([generated_ids, next_token_id], dim=1)\n",
    "    \n",
    "    # Decode the generated tokens into text\n",
    "    response = tokenizer.decode(generated_ids[0], skip_special_tokens=True)\n",
    "    \n",
    "    # return response, transformed_hidden_state\n",
    "    return response\n"
   ]
  },
  {
   "cell_type": "code",
   "execution_count": 29,
   "metadata": {},
   "outputs": [
    {
     "data": {
      "text/plain": [
       "torch.Size([768, 768])"
      ]
     },
     "execution_count": 29,
     "metadata": {},
     "output_type": "execute_result"
    }
   ],
   "source": [
    "transition_layer.transition_matrix.shape"
   ]
  },
  {
   "cell_type": "code",
   "execution_count": null,
   "metadata": {},
   "outputs": [],
   "source": []
  },
  {
   "cell_type": "code",
   "execution_count": null,
   "metadata": {},
   "outputs": [
    {
     "data": {
      "text/plain": [
       "13"
      ]
     },
     "execution_count": 72,
     "metadata": {},
     "output_type": "execute_result"
    }
   ],
   "source": [
    "last output[0][-2]"
   ]
  },
  {
   "cell_type": "code",
   "execution_count": 24,
   "metadata": {},
   "outputs": [],
   "source": [
    "last = torch.matmul(output[12][-1].squeeze(), transition_layer.transition_matrix)"
   ]
  },
  {
   "cell_type": "code",
   "execution_count": 8,
   "metadata": {},
   "outputs": [
    {
     "data": {
      "text/plain": [
       "torch.Size([4, 768])"
      ]
     },
     "execution_count": 8,
     "metadata": {},
     "output_type": "execute_result"
    }
   ],
   "source": [
    "last.shape"
   ]
  },
  {
   "cell_type": "code",
   "execution_count": 25,
   "metadata": {},
   "outputs": [],
   "source": [
    "logits = model.lm_head(last)"
   ]
  },
  {
   "cell_type": "code",
   "execution_count": 76,
   "metadata": {},
   "outputs": [
    {
     "data": {
      "text/plain": [
       "torch.Size([4, 50265])"
      ]
     },
     "execution_count": 76,
     "metadata": {},
     "output_type": "execute_result"
    }
   ],
   "source": [
    "logits.shape"
   ]
  },
  {
   "cell_type": "code",
   "execution_count": 26,
   "metadata": {},
   "outputs": [],
   "source": [
    "probabilities = F.softmax(logits, dim=-1)"
   ]
  },
  {
   "cell_type": "code",
   "execution_count": 27,
   "metadata": {},
   "outputs": [],
   "source": [
    "predicted_token_id = torch.argmax(probabilities, dim=-1)"
   ]
  },
  {
   "cell_type": "code",
   "execution_count": 28,
   "metadata": {},
   "outputs": [],
   "source": [
    "predicted_token = tokenizer.decode(predicted_token_id)"
   ]
  },
  {
   "cell_type": "code",
   "execution_count": 29,
   "metadata": {},
   "outputs": [
    {
     "data": {
      "text/plain": [
       "'ergie'"
      ]
     },
     "execution_count": 29,
     "metadata": {},
     "output_type": "execute_result"
    }
   ],
   "source": [
    "predicted_token"
   ]
  },
  {
   "cell_type": "code",
   "execution_count": 54,
   "metadata": {},
   "outputs": [
    {
     "data": {
      "text/plain": [
       "12"
      ]
     },
     "execution_count": 54,
     "metadata": {},
     "output_type": "execute_result"
    }
   ],
   "source": [
    "model.config.num_hidden_layers"
   ]
  },
  {
   "cell_type": "code",
   "execution_count": 25,
   "metadata": {},
   "outputs": [
    {
     "ename": "TypeError",
     "evalue": "only integer tensors of a single element can be converted to an index",
     "output_type": "error",
     "traceback": [
      "\u001b[0;31m---------------------------------------------------------------------------\u001b[0m",
      "\u001b[0;31mTypeError\u001b[0m                                 Traceback (most recent call last)",
      "Cell \u001b[0;32mIn[25], line 1\u001b[0m\n\u001b[0;32m----> 1\u001b[0m \u001b[43moutput\u001b[49m\u001b[38;5;241;43m*\u001b[39;49m\u001b[43mtransition_layer\u001b[49m\u001b[38;5;241;43m.\u001b[39;49m\u001b[43mtransition_matrix\u001b[49m\n",
      "\u001b[0;31mTypeError\u001b[0m: only integer tensors of a single element can be converted to an index"
     ]
    }
   ],
   "source": [
    "output*transition_layer.transition_matrix"
   ]
  },
  {
   "cell_type": "code",
   "execution_count": 6,
   "metadata": {},
   "outputs": [
    {
     "name": "stderr",
     "output_type": "stream",
     "text": [
      "The attention mask and the pad token id were not set. As a consequence, you may observe unexpected behavior. Please pass your input's `attention_mask` to obtain reliable results.\n",
      "Setting `pad_token_id` to `eos_token_id`:50256 for open-end generation.\n",
      "The attention mask is not set and cannot be inferred from input because pad token is same as eos token. As a consequence, you may observe unexpected behavior. Please pass your input's `attention_mask` to obtain reliable results.\n"
     ]
    },
    {
     "name": "stdout",
     "output_type": "stream",
     "text": [
      "LLaMA's Response: Geschichte der TU Dresden\n",
      "Das Projekt \"Wissenschaftliches Arbeiten im Studium\" wurde durch das Bundesministerium für Bildung und Forschung (BMBF) ins Leben gerufen, um die Qualität der Doktorandenausbildung und der forschungsnahen Forschung in Deutschland zu verbessern.\n",
      "Das Projekt wurde am 1. September 2003 beim BMBF gestartet und umfasste ein Forschungsprogramm mit folgenden Schwerpunkten:\n",
      "Das Forschungsvorhaben bestand aus zwei Teilen:\n",
      "Im ersten Teil werden die Doktoranden der TU Dresden in der Forschung und Lehre ausgebildet. In\n"
     ]
    }
   ],
   "source": [
    "# Example: Ask a question\n",
    "question = \"Geschichte der TU Dresden\"\n",
    "response, output = ask(question, model, tokenizer)\n",
    "print(\"LLaMA's Response:\", response)"
   ]
  },
  {
   "cell_type": "code",
   "execution_count": 6,
   "metadata": {},
   "outputs": [
    {
     "name": "stdout",
     "output_type": "stream",
     "text": [
      "LLaMA's Response: Geschichte der TU DresdenignembLetztesTschüssamngkselfkilometerKlasseKlasse«.ükenbergüksgesamtüksgesamtükälüs««.ük«fla MilliarbeleOZsgesamtükälabit LippeselfüksgesamtükäliegelsselfükselfükselfükselfükselfükselfükReservKlasse«.ük«ük«ükOZOZkilometerükük«ük«ük«.ük«ük«.ükselfükükükükükükükükükükükükükükükükükReserv«.ükself\n"
     ]
    }
   ],
   "source": [
    "# Example: Ask a question\n",
    "question = \"Geschichte der TU Dresden\"\n",
    "response = ask_with_transition(question, model, tokenizer, transition_layer)\n",
    "print(\"LLaMA's Response:\", response)"
   ]
  }
 ],
 "metadata": {
  "kernelspec": {
   "display_name": "Python 3 (ipykernel)",
   "language": "python",
   "name": "python3"
  },
  "language_info": {
   "codemirror_mode": {
    "name": "ipython",
    "version": 3
   },
   "file_extension": ".py",
   "mimetype": "text/x-python",
   "name": "python",
   "nbconvert_exporter": "python",
   "pygments_lexer": "ipython3",
   "version": "3.13.1"
  }
 },
 "nbformat": 4,
 "nbformat_minor": 2
}
