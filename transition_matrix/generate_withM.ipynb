{
 "cells": [
  {
   "cell_type": "code",
   "execution_count": 1,
   "metadata": {},
   "outputs": [],
   "source": [
    "#!/usr/bin/env python3\n",
    "# -*- coding: utf-8 -*-\n",
    "\"\"\"\n",
    "Created on Sun Feb 9 2025\n",
    "\n",
    "@author: Yaning\n",
    "\"\"\"\n",
    "\n",
    "# Import necessary libraries\n",
    "import torch\n",
    "import torch.nn as nn\n",
    "import torch.optim as optim\n",
    "# import torch.nn.functional as F # mainly for ReLU\n",
    "import numpy as np\n",
    "import copy\n",
    "import re\n",
    "import torch.nn.functional as F\n"
   ]
  },
  {
   "cell_type": "code",
   "execution_count": 2,
   "metadata": {},
   "outputs": [
    {
     "name": "stderr",
     "output_type": "stream",
     "text": [
      "/home/yaning/Documents/python_env/llm/lib/python3.13/site-packages/tqdm/auto.py:21: TqdmWarning: IProgress not found. Please update jupyter and ipywidgets. See https://ipywidgets.readthedocs.io/en/stable/user_install.html\n",
      "  from .autonotebook import tqdm as notebook_tqdm\n"
     ]
    },
    {
     "data": {
      "text/plain": [
       "GPT2LMHeadModel(\n",
       "  (transformer): GPT2Model(\n",
       "    (wte): Embedding(50265, 768)\n",
       "    (wpe): Embedding(1024, 768)\n",
       "    (drop): Dropout(p=0.0, inplace=False)\n",
       "    (h): ModuleList(\n",
       "      (0-11): 12 x GPT2Block(\n",
       "        (ln_1): LayerNorm((768,), eps=1e-05, elementwise_affine=True)\n",
       "        (attn): GPT2Attention(\n",
       "          (c_attn): Conv1D(nf=2304, nx=768)\n",
       "          (c_proj): Conv1D(nf=768, nx=768)\n",
       "          (attn_dropout): Dropout(p=0.0, inplace=False)\n",
       "          (resid_dropout): Dropout(p=0.0, inplace=False)\n",
       "        )\n",
       "        (ln_2): LayerNorm((768,), eps=1e-05, elementwise_affine=True)\n",
       "        (mlp): GPT2MLP(\n",
       "          (c_fc): Conv1D(nf=3072, nx=768)\n",
       "          (c_proj): Conv1D(nf=768, nx=3072)\n",
       "          (act): NewGELUActivation()\n",
       "          (dropout): Dropout(p=0.0, inplace=False)\n",
       "        )\n",
       "      )\n",
       "    )\n",
       "    (ln_f): LayerNorm((768,), eps=1e-05, elementwise_affine=True)\n",
       "  )\n",
       "  (lm_head): Linear(in_features=768, out_features=50265, bias=False)\n",
       ")"
      ]
     },
     "execution_count": 2,
     "metadata": {},
     "output_type": "execute_result"
    }
   ],
   "source": [
    "from transformers import AutoTokenizer, AutoModelForCausalLM, GPT2Model\n",
    "\n",
    "tokenizer = AutoTokenizer.from_pretrained(\"dbmdz/german-gpt2\")\n",
    "model = AutoModelForCausalLM.from_pretrained(\"dbmdz/german-gpt2\")\n",
    "model.eval()"
   ]
  },
  {
   "cell_type": "code",
   "execution_count": 3,
   "metadata": {},
   "outputs": [],
   "source": [
    "def normalise_matrix(m):\n",
    "    m_mean = m.mean()\n",
    "    m_std = m.std()\n",
    "    m = (m-m_mean)/m_std\n",
    "    return m"
   ]
  },
  {
   "cell_type": "code",
   "execution_count": 5,
   "metadata": {},
   "outputs": [],
   "source": [
    "batch_size = 537"
   ]
  },
  {
   "cell_type": "code",
   "execution_count": 6,
   "metadata": {},
   "outputs": [],
   "source": [
    "# # Define the Transition Layer (T)\n",
    "# class TransitionLayer(nn.Module):\n",
    "#     def __init__(self, embedding_dim):\n",
    "#         super(TransitionLayer, self).__init__()\n",
    "#         # Trainable transition matrix to map standard to dialect\n",
    "#         self.transition_matrix = nn.Parameter(torch.randn(537, embedding_dim))\n",
    "    \n",
    "#     def forward(self, standard_embeddings):\n",
    "#         # Apply the transformation: H_dialect = T * H_standard\n",
    "#         return torch.matmul(standard_embeddings, self.transition_matrix)\n",
    "\n",
    "# # attention transition matrix\n",
    "# class TransitionLayer(nn.Module):\n",
    "#     def __init__(self, embedding_dim):\n",
    "#         super(TransitionLayer, self).__init__()\n",
    "#         # Trainable transition matrix to map standard to dialect\n",
    "#         self.query = nn.Parameter(torch.randn(embedding_dim, embedding_dim))\n",
    "#         self.key = nn.Parameter(torch.randn(embedding_dim, embedding_dim))\n",
    "#         self.value = nn.Parameter(torch.randn(embedding_dim, embedding_dim))\n",
    "#         self.transition_matrix = nn.Parameter(torch.randn(embedding_dim, embedding_dim))\n",
    "        \n",
    "    \n",
    "#     def forward(self, standard_embeddings):\n",
    "#         attention_matrix = torch.matmul(self.query, self.key)/(10 ** 0.5)\n",
    "#         attention_weights = F.softmax(attention_matrix, dim=-1)\n",
    "#         transition_matrix = torch.matmul(attention_weights, self.value)\n",
    "#         return torch.matmul(standard_embeddings, transition_matrix)\n",
    "\n",
    "# # Define the Transition Layer (T)\n",
    "# class TransitionLayer(nn.Module):\n",
    "#     def __init__(self, embedding_dim):\n",
    "#         super(TransitionLayer, self).__init__()\n",
    "#         # Trainable transition matrix to map standard to dialect\n",
    "#         self.transition_matrix = nn.Parameter(torch.randn(embedding_dim, embedding_dim))\n",
    "    \n",
    "#     def forward(self, standard_embeddings):\n",
    "#         # Apply the transformation: H_dialect = T * H_standard\n",
    "#         # return torch.matmul(standard_embeddings, self.transition_matrix)\n",
    "#         # print(\"first\")\n",
    "#         # print(standard_embeddings.shape)\n",
    "#         # print(\"second\")\n",
    "#         # print(self.transition_matrix.shape)\n",
    "#         standard_embeddings_mean = standard_embeddings.mean()\n",
    "#         standard_embeddings_std = standard_embeddings.std()\n",
    "#         standard_embeddings = (standard_embeddings - standard_embeddings_mean) / standard_embeddings_std\n",
    "\n",
    "        \n",
    "#         transition_matrix_mean = self.transition_matrix.mean()\n",
    "#         transition_matrix_std = self.transition_matrix.std()\n",
    "#         scaled_transition = (self.transition_matrix - transition_matrix_mean) / transition_matrix_std\n",
    "        \n",
    "#         return torch.matmul(standard_embeddings, scaled_transition)\n",
    "\n",
    "# add transition layer to the standard embedding\n",
    "class TransitionLayer(nn.Module):\n",
    "    def __init__(self, embedding_dim):\n",
    "        super(TransitionLayer, self).__init__()\n",
    "        # Trainable transition matrix to map standard to dialect\n",
    "        self.transition_matrix = nn.Parameter(torch.randn(batch_size, embedding_dim))\n",
    "    \n",
    "    def forward(self, standard_embeddings):\n",
    "\n",
    "        scaled_standard = normalise_matrix(standard_embeddings)\n",
    "\n",
    "        scaled_transition = normalise_matrix(self.transition_matrix)\n",
    "\n",
    "        added = scaled_standard + scaled_transition/1\n",
    "        \n",
    "        return added"
   ]
  },
  {
   "cell_type": "code",
   "execution_count": 7,
   "metadata": {},
   "outputs": [
    {
     "name": "stderr",
     "output_type": "stream",
     "text": [
      "/tmp/ipykernel_315536/4049165342.py:6: FutureWarning: You are using `torch.load` with `weights_only=False` (the current default value), which uses the default pickle module implicitly. It is possible to construct malicious pickle data which will execute arbitrary code during unpickling (See https://github.com/pytorch/pytorch/blob/main/SECURITY.md#untrusted-models for more details). In a future release, the default value for `weights_only` will be flipped to `True`. This limits the functions that could be executed during unpickling. Arbitrary objects will no longer be allowed to be loaded via this mode unless they are explicitly allowlisted by the user via `torch.serialization.add_safe_globals`. We recommend you start setting `weights_only=True` for any use case where you don't have full control of the loaded file. Please open an issue on GitHub for any issues related to this experimental feature.\n",
      "  transition_layer.load_state_dict(torch.load('transition_matrix_new.pth'))\n"
     ]
    },
    {
     "data": {
      "text/plain": [
       "<All keys matched successfully>"
      ]
     },
     "execution_count": 7,
     "metadata": {},
     "output_type": "execute_result"
    }
   ],
   "source": [
    "embedding_dim = model.config.hidden_size\n",
    "# Initialize the Transition Layer with the same embedding dimension\n",
    "transition_layer = TransitionLayer(embedding_dim)\n",
    "\n",
    "# Load the saved transition matrix into the model\n",
    "transition_layer.load_state_dict(torch.load('transition_matrix_new.pth'))\n"
   ]
  },
  {
   "cell_type": "code",
   "execution_count": 8,
   "metadata": {},
   "outputs": [],
   "source": [
    "def ask(question, model, tokenizer, max_length=100, device=\"cpu\"):\n",
    "    # Tokenize the input question\n",
    "    inputs = tokenizer(question, return_tensors=\"pt\").to(device)\n",
    "    \n",
    "    # Generate the response\n",
    "    with torch.no_grad():\n",
    "        output = model.generate(\n",
    "            inputs.input_ids,\n",
    "            max_length=max_length,\n",
    "            temperature=0.7,  # Controls randomness (lower = more deterministic)\n",
    "            top_k=50,         # Top-k sampling for diversity\n",
    "            do_sample=True,    # Enable sampling for less repetitive responses\n",
    "            output_hidden_states=True,\n",
    "            return_dict_in_generate=True \n",
    "        )\n",
    "    \n",
    "    hidden_states = output.hidden_states  # List of hidden states from each layer\n",
    "    # last_layer_hidden_state = hidden_states[-1]\n",
    "    # Decode the response\n",
    "    response = tokenizer.decode(output.sequences[0], skip_special_tokens=True)\n",
    "    return response, hidden_states"
   ]
  },
  {
   "cell_type": "code",
   "execution_count": 9,
   "metadata": {},
   "outputs": [],
   "source": [
    "import torch.nn.functional as F\n",
    "\n",
    "def ask_with_transition(question, model, tokenizer, transition_layer, max_length=100, device=\"cpu\"):\n",
    "    # Tokenize the input question\n",
    "    inputs = tokenizer(question, return_tensors=\"pt\").to(device)\n",
    "    \n",
    "    # Initialize the input ids and attention mask\n",
    "    input_ids = inputs.input_ids\n",
    "    attention_mask = inputs.attention_mask\n",
    "    \n",
    "    # Use the model to generate responses while controlling the generation loop\n",
    "    model.eval()  # Set the model to evaluation mode\n",
    "    generated_ids = input_ids\n",
    "    for _ in range(max_length - input_ids.shape[1]):\n",
    "        # Generate the logits and hidden states for the current input\n",
    "        outputs = model(input_ids=generated_ids, attention_mask=attention_mask, output_hidden_states=True)\n",
    "        \n",
    "        # Get the last hidden state from the outputs\n",
    "        hidden_states = outputs.hidden_states\n",
    "        last_hidden_state = hidden_states[-1]  # [batch_size, seq_len, hidden_size]\n",
    "\n",
    "        # print(last_hidden_state.shape)\n",
    "        \n",
    "        # Apply the transition matrix to the last hidden state\n",
    "        mean = last_hidden_state[:, -1, :].mean()\n",
    "        std = last_hidden_state[:, -1, :].std()\n",
    "        scaled_lhs = (last_hidden_state[:, -1, :] - mean)/std\n",
    "\n",
    "        trans_matrix = transition_layer.transition_matrix\n",
    "        mean = trans_matrix.mean()\n",
    "        std = trans_matrix.std()\n",
    "        scaled_trans = (trans_matrix - mean)/std\n",
    "\n",
    "        transformed_hidden_state = torch.matmul(scaled_lhs, scaled_trans)\n",
    "        \n",
    "        # Transform the hidden state to logits\n",
    "        # logits = model.lm_head(transformed_hidden_state)  # Project the transformed hidden state to logits\n",
    "        logits = model.lm_head(transformed_hidden_state)\n",
    "        \n",
    "        # Apply softmax to get probabilities for the next token\n",
    "        next_token_logits = logits[:,:]  # Get the logits for the next token\n",
    "        # print(next_token_logits)\n",
    "        next_token_probs = F.softmax(next_token_logits, dim=-1)\n",
    "        \n",
    "        # Sample the next token from the probabilities\n",
    "        next_token_id = torch.multinomial(next_token_probs, 1)\n",
    "        \n",
    "        # Append the predicted token to the generated sequence\n",
    "        generated_ids = torch.cat([generated_ids, next_token_id], dim=1)\n",
    "        print(generated_ids)\n",
    "    \n",
    "    # Decode the generated tokens into text\n",
    "    response = tokenizer.decode(generated_ids[0], skip_special_tokens=True)\n",
    "    \n",
    "    # return response, transformed_hidden_state\n",
    "    return response\n"
   ]
  },
  {
   "cell_type": "code",
   "execution_count": 52,
   "metadata": {},
   "outputs": [],
   "source": [
    "import torch.nn.functional as F\n",
    "\n",
    "def M_add(question, model, tokenizer, transition_layer, max_length=100, device=\"cpu\"):\n",
    "    # Tokenize the input question\n",
    "    inputs = tokenizer(question, return_tensors=\"pt\").to(device)\n",
    "    \n",
    "    # Initialize the input ids and attention mask\n",
    "    input_ids = inputs.input_ids\n",
    "    attention_mask = inputs.attention_mask\n",
    "    \n",
    "    # Use the model to generate responses while controlling the generation loop\n",
    "    model.eval()  # Set the model to evaluation mode\n",
    "    generated_ids = input_ids\n",
    "    for _ in range(max_length - input_ids.shape[1]):\n",
    "        # Generate the logits and hidden states for the current input\n",
    "        outputs = model(input_ids=generated_ids, attention_mask=attention_mask, output_hidden_states=True)\n",
    "        \n",
    "        # Get the last hidden state from the outputs\n",
    "        hidden_states = outputs.hidden_states\n",
    "        last_hidden_state = hidden_states[-1]  # [batch_size, seq_len, hidden_size]\n",
    "\n",
    "        # print(last_hidden_state.shape)\n",
    "        \n",
    "        # Apply the transition matrix to the last hidden state\n",
    "        scaled_lhs = normalise_matrix(last_hidden_state[:,-1,:])\n",
    "        # print(scaled_lhs.shape)\n",
    "        scaled_trans = normalise_matrix(transition_layer.transition_matrix)\n",
    "        # print(scaled_trans.shape)\n",
    "        # transformed_hidden_state = transition_layer(scaled_lhs)\n",
    "        # print(transformed_hidden_state.shape)\n",
    "        transformed_hidden_state = scaled_lhs + scaled_trans/1000\n",
    "        # Transform the hidden state to logits\n",
    "        # logits = model.lm_head(transformed_hidden_state)  # Project the transformed hidden state to logits\n",
    "        logits = model.lm_head(transformed_hidden_state)\n",
    "        \n",
    "        # Apply softmax to get probabilities for the next token\n",
    "        next_token_logits = logits[:,-1, :]  # Get the logits for the next token\n",
    "        # print(next_token_logits)\n",
    "        next_token_probs = F.softmax(next_token_logits, dim=-1)\n",
    "        \n",
    "        # Sample the next token from the probabilities\n",
    "        next_token_id = torch.multinomial(next_token_probs, 1)\n",
    "        # print(generated_ids.shape)\n",
    "        # print(next_token_id.shape)\n",
    "        \n",
    "        # Append the predicted token to the generated sequence\n",
    "        generated_ids = torch.cat([generated_ids, next_token_id.unsqueeze(0)], dim=1)\n",
    "        # print(generated_ids)\n",
    "    \n",
    "    # Decode the generated tokens into text\n",
    "    response = tokenizer.decode(generated_ids[0], skip_special_tokens=True)\n",
    "    \n",
    "    # return response, transformed_hidden_state\n",
    "    return response\n"
   ]
  },
  {
   "cell_type": "code",
   "execution_count": 29,
   "metadata": {},
   "outputs": [
    {
     "name": "stderr",
     "output_type": "stream",
     "text": [
      "The attention mask and the pad token id were not set. As a consequence, you may observe unexpected behavior. Please pass your input's `attention_mask` to obtain reliable results.\n",
      "Setting `pad_token_id` to `eos_token_id`:50256 for open-end generation.\n"
     ]
    },
    {
     "name": "stdout",
     "output_type": "stream",
     "text": [
      "LLaMA's Response: Er da hat sich auf seiner Mary im Sattel aufrichten lassen.\n",
      "- Ja.\n",
      "- Ja.\n",
      "- Ja.\n",
      "- Ja.\n",
      "Also, was ist mit dir los?\n",
      "- Du hast nicht mit mir geredet?\n",
      "- Nein.\n",
      "- Ich hab nicht mit dir geredet?\n",
      "- Nein.\n",
      "Ich hab nicht mit dir geredet, weil du mich nicht verstehst, also...\n",
      "Weil ich...\n",
      "- Nein, nein, ich verstehe.\n",
      "- Nein, ich verstehe.\n"
     ]
    }
   ],
   "source": [
    "# Example: Ask a question\n",
    "question = \"Geschichte der TU Dresden\"\n",
    "question = \"Er da hat sich auf seiner Mary im Sattel aufrichten\"\n",
    "response, output = ask(question, model, tokenizer)\n",
    "print(\"LLaMA's Response:\", response)"
   ]
  },
  {
   "cell_type": "code",
   "execution_count": 53,
   "metadata": {},
   "outputs": [
    {
     "ename": "IndexError",
     "evalue": "too many indices for tensor of dimension 2",
     "output_type": "error",
     "traceback": [
      "\u001b[0;31m---------------------------------------------------------------------------\u001b[0m",
      "\u001b[0;31mIndexError\u001b[0m                                Traceback (most recent call last)",
      "Cell \u001b[0;32mIn[53], line 4\u001b[0m\n\u001b[1;32m      2\u001b[0m question \u001b[38;5;241m=\u001b[39m \u001b[38;5;124m\"\u001b[39m\u001b[38;5;124mGeschichte der TU Dresden\u001b[39m\u001b[38;5;124m\"\u001b[39m\n\u001b[1;32m      3\u001b[0m \u001b[38;5;66;03m# question = \"Er da hat sich auf seiner Mary im Sattel aufrichten\"\u001b[39;00m\n\u001b[0;32m----> 4\u001b[0m response \u001b[38;5;241m=\u001b[39m \u001b[43mM_add\u001b[49m\u001b[43m(\u001b[49m\u001b[43mquestion\u001b[49m\u001b[43m,\u001b[49m\u001b[43m \u001b[49m\u001b[43mmodel\u001b[49m\u001b[43m,\u001b[49m\u001b[43m \u001b[49m\u001b[43mtokenizer\u001b[49m\u001b[43m,\u001b[49m\u001b[43m \u001b[49m\u001b[43mtransition_layer\u001b[49m\u001b[43m)\u001b[49m\n\u001b[1;32m      5\u001b[0m \u001b[38;5;28mprint\u001b[39m(\u001b[38;5;124m\"\u001b[39m\u001b[38;5;124mLLaMA\u001b[39m\u001b[38;5;124m'\u001b[39m\u001b[38;5;124ms Response:\u001b[39m\u001b[38;5;124m\"\u001b[39m, response)\n",
      "Cell \u001b[0;32mIn[52], line 37\u001b[0m, in \u001b[0;36mM_add\u001b[0;34m(question, model, tokenizer, transition_layer, max_length, device)\u001b[0m\n\u001b[1;32m     34\u001b[0m logits \u001b[38;5;241m=\u001b[39m model\u001b[38;5;241m.\u001b[39mlm_head(transformed_hidden_state)\n\u001b[1;32m     36\u001b[0m \u001b[38;5;66;03m# Apply softmax to get probabilities for the next token\u001b[39;00m\n\u001b[0;32m---> 37\u001b[0m next_token_logits \u001b[38;5;241m=\u001b[39m \u001b[43mlogits\u001b[49m\u001b[43m[\u001b[49m\u001b[43m:\u001b[49m\u001b[43m,\u001b[49m\u001b[38;5;241;43m-\u001b[39;49m\u001b[38;5;241;43m1\u001b[39;49m\u001b[43m,\u001b[49m\u001b[43m \u001b[49m\u001b[43m:\u001b[49m\u001b[43m]\u001b[49m  \u001b[38;5;66;03m# Get the logits for the next token\u001b[39;00m\n\u001b[1;32m     38\u001b[0m \u001b[38;5;66;03m# print(next_token_logits)\u001b[39;00m\n\u001b[1;32m     39\u001b[0m next_token_probs \u001b[38;5;241m=\u001b[39m F\u001b[38;5;241m.\u001b[39msoftmax(next_token_logits, dim\u001b[38;5;241m=\u001b[39m\u001b[38;5;241m-\u001b[39m\u001b[38;5;241m1\u001b[39m)\n",
      "\u001b[0;31mIndexError\u001b[0m: too many indices for tensor of dimension 2"
     ]
    }
   ],
   "source": [
    "# Example: Ask a question\n",
    "question = \"Geschichte der TU Dresden\"\n",
    "# question = \"Er da hat sich auf seiner Mary im Sattel aufrichten\"\n",
    "response = M_add(question, model, tokenizer, transition_layer)\n",
    "print(\"LLaMA's Response:\", response)"
   ]
  }
 ],
 "metadata": {
  "kernelspec": {
   "display_name": "Python 3 (ipykernel)",
   "language": "python",
   "name": "python3"
  },
  "language_info": {
   "codemirror_mode": {
    "name": "ipython",
    "version": 3
   },
   "file_extension": ".py",
   "mimetype": "text/x-python",
   "name": "python",
   "nbconvert_exporter": "python",
   "pygments_lexer": "ipython3",
   "version": "3.13.1"
  }
 },
 "nbformat": 4,
 "nbformat_minor": 2
}
