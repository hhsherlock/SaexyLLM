{
 "cells": [
  {
   "cell_type": "code",
   "execution_count": 8,
   "metadata": {},
   "outputs": [],
   "source": [
    "#!/usr/bin/env python3\n",
    "# -*- coding: utf-8 -*-\n",
    "\"\"\"\n",
    "Created on Fri Jan 24 2025\n",
    "\n",
    "@author: Yaning\n",
    "\"\"\"\n",
    "\n",
    "from transformers import GPT2LMHeadModel, GPT2Tokenizer, Trainer, TrainingArguments\n",
    "from datasets import Dataset\n",
    "import torch\n",
    "\n",
    "from transformers import AutoTokenizer, AutoModelForCausalLM"
   ]
  },
  {
   "cell_type": "code",
   "execution_count": 5,
   "metadata": {},
   "outputs": [],
   "source": [
    "# Load your custom dataset (assuming it's a plain text file)\n",
    "def load_dataset(file_path):\n",
    "    with open(file_path, 'r', encoding='utf-8') as file:\n",
    "        lines = file.readlines()\n",
    "    \n",
    "    # We assume each poem is split by the \"<TITLE>\" and \"<POEM>\" tags\n",
    "    titles = []\n",
    "    poems = []\n",
    "    current_title = \"\"\n",
    "    current_poem = \"\"\n",
    "    \n",
    "    for line in lines:\n",
    "        if line.startswith(\"<TITLE>\"):\n",
    "            # Save the current poem and reset\n",
    "            if current_title and current_poem:\n",
    "                titles.append(current_title)\n",
    "                poems.append(current_poem)\n",
    "            current_title = line.strip().replace(\"<TITLE>\", \"\").strip()\n",
    "            current_poem = \"\"\n",
    "        elif line.startswith(\"<POEM>\"):\n",
    "            current_poem = line.strip().replace(\"<POEM>\", \"\").strip()\n",
    "    \n",
    "    # Add last poem if any\n",
    "    if current_title and current_poem:\n",
    "        titles.append(current_title)\n",
    "        poems.append(current_poem)\n",
    "    \n",
    "    return Dataset.from_dict({\"title\": titles, \"poem\": poems})\n",
    "\n",
    "# Tokenize the dataset\n",
    "def tokenize_function(examples):\n",
    "    # Format as <TITLE>: {title} <POEM>: {poem}\n",
    "    inputs = [f\"<TITLE>: {title} <POEM>: {poem}\" for title, poem in zip(examples['title'], examples['poem'])]\n",
    "    \n",
    "    # Tokenize the inputs and return input_ids as both 'input_ids' and 'labels' for language modeling\n",
    "    tokenized = tokenizer(inputs, padding=\"max_length\", truncation=True, max_length=512)\n",
    "    tokenized['labels'] = tokenized['input_ids']  # The labels should be the same as input_ids for LM\n",
    "    return tokenized\n"
   ]
  },
  {
   "cell_type": "code",
   "execution_count": 9,
   "metadata": {},
   "outputs": [
    {
     "name": "stderr",
     "output_type": "stream",
     "text": [
      "The new embeddings will be initialized from a multivariate normal distribution that has old embeddings' mean and covariance. As described in this article: https://nlp.stanford.edu/~johnhew/vocab-expansion.html. To disable this, use `mean_resizing=False`\n",
      "Map: 100%|████████████████████████████████████████████████████████████████████████████████████████████████████████████████████████████| 5/5 [00:00<00:00, 34.79 examples/s]\n",
      "/tmp/ipykernel_1440524/3686029021.py:30: FutureWarning: `tokenizer` is deprecated and will be removed in version 5.0.0 for `Trainer.__init__`. Use `processing_class` instead.\n",
      "  trainer = Trainer(\n",
      "Detected kernel version 4.18.0, which is below the recommended minimum of 5.5.0; this can cause the process to hang. It is recommended to upgrade the kernel to the minimum version or higher.\n"
     ]
    }
   ],
   "source": [
    "# Load the pre-trained tokenizer and model\n",
    "# model_name = \"gpt2\"  # You can change this to a different German model, e.g., \"bert-base-german-cased\"\n",
    "# tokenizer = GPT2Tokenizer.from_pretrained(model_name)\n",
    "# model = GPT2LMHeadModel.from_pretrained(model_name)\n",
    "\n",
    "model_name = \"dbmdz/german-gpt2\"  # You can change this to a different German model, e.g., \"bert-base-german-cased\"\n",
    "tokenizer = AutoTokenizer.from_pretrained(model_name)\n",
    "model = AutoModelForCausalLM.from_pretrained(model_name)\n",
    "\n",
    "# Ensure the tokenizer knows about the special tokens\n",
    "tokenizer.add_special_tokens({'pad_token': '[PAD]'})\n",
    "model.resize_token_embeddings(len(tokenizer))\n",
    "\n",
    "\n",
    "\n",
    "# Load and preprocess the dataset\n",
    "dataset = load_dataset('/home/yahu202d/workspaces/horse/yahu202d-saexy/poems.txt')  # Path to your dataset file\n",
    "tokenized_datasets = dataset.map(tokenize_function, batched=True)\n",
    "\n",
    "# Set up TrainingArguments\n",
    "training_args = TrainingArguments(\n",
    "    output_dir=\"./german_poem_model\",  # output directory\n",
    "    num_train_epochs=3,  # number of epochs\n",
    "    per_device_train_batch_size=1,  # batch size per device\n",
    "    save_steps=10_000,  # save checkpoint every 10,000 steps\n",
    "    save_total_limit=2,  # limit the number of saved models\n",
    ")\n",
    "\n",
    "# Initialize the Trainer\n",
    "trainer = Trainer(\n",
    "    model=model,\n",
    "    args=training_args,\n",
    "    train_dataset=tokenized_datasets,\n",
    "    tokenizer=tokenizer,\n",
    ")\n",
    "\n"
   ]
  },
  {
   "cell_type": "code",
   "execution_count": 10,
   "metadata": {},
   "outputs": [
    {
     "data": {
      "text/html": [
       "\n",
       "    <div>\n",
       "      \n",
       "      <progress value='15' max='15' style='width:300px; height:20px; vertical-align: middle;'></progress>\n",
       "      [15/15 01:15, Epoch 3/3]\n",
       "    </div>\n",
       "    <table border=\"1\" class=\"dataframe\">\n",
       "  <thead>\n",
       " <tr style=\"text-align: left;\">\n",
       "      <th>Step</th>\n",
       "      <th>Training Loss</th>\n",
       "    </tr>\n",
       "  </thead>\n",
       "  <tbody>\n",
       "  </tbody>\n",
       "</table><p>"
      ],
      "text/plain": [
       "<IPython.core.display.HTML object>"
      ]
     },
     "metadata": {},
     "output_type": "display_data"
    }
   ],
   "source": [
    "# Train the model\n",
    "trainer.train()\n",
    "\n",
    "# Save the fine-tuned model\n",
    "trainer.save_model(\"./fine_tuned_poem_model\")"
   ]
  },
  {
   "cell_type": "code",
   "execution_count": 11,
   "metadata": {},
   "outputs": [
    {
     "name": "stderr",
     "output_type": "stream",
     "text": [
      "/home/yahu202d/.local/lib/python3.8/site-packages/transformers/generation/configuration_utils.py:590: UserWarning: `do_sample` is set to `False`. However, `temperature` is set to `0.7` -- this flag is only used in sample-based generation modes. You should set `do_sample=True` or unset `temperature`.\n",
      "  warnings.warn(\n",
      "/home/yahu202d/.local/lib/python3.8/site-packages/transformers/generation/configuration_utils.py:595: UserWarning: `do_sample` is set to `False`. However, `top_p` is set to `0.9` -- this flag is only used in sample-based generation modes. You should set `do_sample=True` or unset `top_p`.\n",
      "  warnings.warn(\n",
      "The attention mask and the pad token id were not set. As a consequence, you may observe unexpected behavior. Please pass your input's `attention_mask` to obtain reliable results.\n",
      "Setting `pad_token_id` to `eos_token_id`:None for open-end generation.\n",
      "The attention mask is not set and cannot be inferred from input because pad token is same as eos token. As a consequence, you may observe unexpected behavior. Please pass your input's `attention_mask` to obtain reliable results.\n"
     ]
    },
    {
     "name": "stdout",
     "output_type": "stream",
     "text": [
      "<TITLE>: Der Mondschein <POEM>: Die Sonne ist aufgegangen.\n",
      "Der Mond ist aufgeht. <TAT> : Der Himmel ist blau.<POEF>.: Der Regen ist weg.</POET>. </TOT>\n",
      "<PREAK> <PORT><SETA>> </P></P}: <SESSION>; <SUCHARGE> ====<<[[POP]\n"
     ]
    }
   ],
   "source": [
    "input_title = \"Der Mondschein\"\n",
    "input_ids = tokenizer.encode(f\"<TITLE>: {input_title} <POEM>:\", return_tensors=\"pt\")\n",
    "\n",
    "output = model.generate(input_ids, max_length=100, num_return_sequences=1, no_repeat_ngram_size=2, top_p=0.9, temperature=0.7)\n",
    "generated_poem = tokenizer.decode(output[0], skip_special_tokens=True)\n",
    "\n",
    "print(generated_poem)"
   ]
  }
 ],
 "metadata": {
  "kernelspec": {
   "display_name": "Python 3 (ipykernel)",
   "language": "python",
   "name": "python3"
  },
  "language_info": {
   "codemirror_mode": {
    "name": "ipython",
    "version": 3
   },
   "file_extension": ".py",
   "mimetype": "text/x-python",
   "name": "python",
   "nbconvert_exporter": "python",
   "pygments_lexer": "ipython3",
   "version": "3.8.17"
  }
 },
 "nbformat": 4,
 "nbformat_minor": 4
}
