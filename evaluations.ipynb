{
 "cells": [
  {
   "cell_type": "code",
   "execution_count": 2,
   "metadata": {},
   "outputs": [],
   "source": [
    "from nltk.translate.bleu_score import sentence_bleu\n",
    "import torch"
   ]
  },
  {
   "cell_type": "code",
   "execution_count": 23,
   "metadata": {},
   "outputs": [
    {
     "name": "stdout",
     "output_type": "stream",
     "text": [
      "BLEU score: 0.0000\n"
     ]
    }
   ],
   "source": [
    "\n",
    "\n",
    "# Example candidate and reference sentences\n",
    "# candidate = \"The cat is on the mat\".split()\n",
    "# reference = [\"The cat is on this mat\".split(), \"There is a cat on the mat\".split()]\n",
    "\n",
    "candidate = \"\"\"Uns team bestoht aus mear 180 Meen, includent renommirede internationale Forscher as wia hoch geschichtlich geschickte Fachleute in administrativ un Kommunikativ rollen. Mit mear 60 Hauptschuelern, zwai Humboldt Professorships un bis zu zwelb geplante AI Professorships unterstützen wir die Exzellenz in Forschung un Lehre in Leipzig un Dresden. Die Förderung junger Talent ist auch ees wichtigste Teil eeser Arbeit, deswegen haffn wir vier Junior Forschungsgruppen eestellt, die ees Meinungen un ees aktuelle Forschungsthemen ergänzen. Eeswegen auch einlässt ees zentrum eesige mitzustellen, die ees Expertise ees eigene Leistungen beisteht.\"\"\".split()\n",
    "reference = [\"Uns Team besteht aus mehr als 180 Leit, darunter anerkannte internationale Forscher sowie hochqualifizierte Fachleut in verwaltende und kommunikative Rolle. Mit mehr als 60 Hauptforschende, zwei Humboldt-Professuren un bis zu zwölf geplante KI-Professuren unterstützen mir Exzellenz in der Forschung und Lehre in Leipzig und Dresden. Junges Talent zu fördern is au ein wichtiger Teil von unsrem Schaffen, deshalb haben mir vier Junior-Forschungsgruppen gegründet, die unsre aktuelle Forschungsthemen sinnvoll ergänzen. Weiterhin begrüßen mir assoziierte Mitglieder, die ihr Fachwissen in unsrem Zentrum einbringen.\".split()]\n",
    "\n",
    "# Calculate BLEU score\n",
    "bleu_score = sentence_bleu(reference, candidate)\n",
    "\n",
    "print(f\"BLEU score: {bleu_score:.4f}\")"
   ]
  },
  {
   "cell_type": "code",
   "execution_count": 9,
   "metadata": {},
   "outputs": [],
   "source": [
    "def calculate_perplexity(model, tokenizer, text):\n",
    "    inputs = tokenizer(text, return_tensors=\"pt\")\n",
    "    with torch.no_grad():\n",
    "        outputs = model(**inputs, labels=inputs[\"input_ids\"])\n",
    "        loss = outputs.loss\n",
    "    return torch.exp(loss).item()"
   ]
  },
  {
   "cell_type": "code",
   "execution_count": 10,
   "metadata": {},
   "outputs": [],
   "source": [
    "from transformers import AutoTokenizer, AutoModelForCausalLM, GPT2Model\n",
    "\n",
    "tokenizer = AutoTokenizer.from_pretrained(\"dbmdz/german-gpt2\")\n",
    "model = AutoModelForCausalLM.from_pretrained(\"dbmdz/german-gpt2\")"
   ]
  },
  {
   "cell_type": "code",
   "execution_count": 10,
   "metadata": {},
   "outputs": [],
   "source": [
    "text = (\"In de Dresdner Bahnhof, wo s'wählt wohnt, war en Johr 2015. Twai Sächsische Männer, Hans und Sven, siddn' im Wartezug, während dey warten gingen, de Dresdner Messe zu besuchen. Dey hadden de Nacht vun de Woche durchgemacht, und hadden sich vun de Party im Pulkverkauf vun de Dresdner Eisdiele De Tannenbaum vun 12 Uhr morgn vun 4 Uhr nachmittag durchgemacht.Hans, de Ältere, hafft 50 Jahre, und war ehemaliger Fußballspieler. Sven, de Jüngere, hafft 25 Jahre, und war ehemaliger Fußballspieler wie Hans. Dey hadden sich vun de Partei vun de FC Dynamo Dresden, deir Lieblingsmannschaft, vun 2012 bis 2015 durchgemacht. Dey hadden de Dresdner Eisdiele De Tannenbaum besucht, um sich vun de Party zu erholen.Während dey warten, hafft Hans vun Sven gesehn, dass s'johr 2015 war. S'johr 2015, sagt Hans, wes' noch viele Dinge gesehn hafft, wie s'johr \")"
   ]
  },
  {
   "cell_type": "code",
   "execution_count": 12,
   "metadata": {},
   "outputs": [],
   "source": [
    "text = \"In winter bei dan größten schnee, namm ich mein ruschelschlieten un treib dermit uf barg un höh när lauter lustge schwieten.Beim birkenbaam ward abgesetzt dos pfeift wie leimerhusen. Nu ward fix wieder naufgesetzt, die annern auszuklußen.Un is a hulpert ufn wag, wie muss mer do net schreiede bossen komme drüberwag, de mad tus runner bleie.Nu haßts de schlieten zammgehängt kommt har, dos is e fressenplumps, hots de ganze rix geschwenkt se hobn schnee gemassen.A färscht is, war\""
   ]
  },
  {
   "cell_type": "code",
   "execution_count": 24,
   "metadata": {},
   "outputs": [],
   "source": [
    "text = \"\"\"Uns team bestoht aus mear 180 Meen, includent renommirede internationale Forscher as wia hoch geschichtlich geschickte Fachleute in administrativ un Kommunikativ rollen. Mit mear 60 Hauptschuelern, zwai Humboldt Professorships un bis zu zwelb geplante AI Professorships unterstützen wir die Exzellenz in Forschung un Lehre in Leipzig un Dresden. Die Förderung junger Talent ist auch ees wichtigste Teil eeser Arbeit, deswegen haffn wir vier Junior Forschungsgruppen eestellt, die ees Meinungen un ees aktuelle Forschungsthemen ergänzen. Eeswegen auch einlässt ees zentrum eesige mitzustellen, die ees Expertise ees eigene Leistungen beisteht.\"\"\""
   ]
  },
  {
   "cell_type": "code",
   "execution_count": 25,
   "metadata": {},
   "outputs": [
    {
     "data": {
      "text/plain": [
       "937.6293334960938"
      ]
     },
     "execution_count": 25,
     "metadata": {},
     "output_type": "execute_result"
    }
   ],
   "source": [
    "calculate_perplexity(model, tokenizer, text)"
   ]
  }
 ],
 "metadata": {
  "kernelspec": {
   "display_name": "Python 3 (ipykernel)",
   "language": "python",
   "name": "python3"
  },
  "language_info": {
   "codemirror_mode": {
    "name": "ipython",
    "version": 3
   },
   "file_extension": ".py",
   "mimetype": "text/x-python",
   "name": "python",
   "nbconvert_exporter": "python",
   "pygments_lexer": "ipython3",
   "version": "3.13.1"
  }
 },
 "nbformat": 4,
 "nbformat_minor": 2
}
